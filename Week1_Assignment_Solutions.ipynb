{
 "cells": [
  {
   "cell_type": "markdown",
   "id": "a57826f2-97b3-41f1-b482-4401a906887f",
   "metadata": {},
   "source": [
    "Q1. Create one variable containing following type of data:\n",
    "(i) string\n",
    "(ii) list\n",
    "(iii) float\n",
    "(iv) tuple"
   ]
  },
  {
   "cell_type": "code",
   "execution_count": 6,
   "id": "c51fc8e0-8d36-43b3-bee5-560905cb2747",
   "metadata": {},
   "outputs": [],
   "source": [
    "s = 'siddartha'\n",
    "l = [1,2,3,4,5,6,'Thala',8,9]\n",
    "f = 69.69\n",
    "t = ('sid',7,8.28)"
   ]
  },
  {
   "cell_type": "markdown",
   "id": "5a0a8cc0-6126-4e18-ab2d-f9f2b7784b2c",
   "metadata": {},
   "source": [
    "Q2. Given are some following variables containing data:\n",
    "(i) var1 = ''\n",
    "(ii) var2 = '[ DS , ML , Python]'\n",
    "(iii) var3 = ['DS','ML','Python']\n",
    "(iv) var4 = 1."
   ]
  },
  {
   "cell_type": "code",
   "execution_count": 11,
   "id": "07f17c9b-dfbf-4908-bd81-aed72157c089",
   "metadata": {},
   "outputs": [
    {
     "name": "stdout",
     "output_type": "stream",
     "text": [
      "<class 'str'>\n",
      "<class 'str'>\n",
      "<class 'list'>\n",
      "<class 'float'>\n"
     ]
    }
   ],
   "source": [
    "var1 = ''\n",
    "var2 = '[ DS , ML , Python]'\n",
    "var3 = ['DS','ML','Python']\n",
    "var4 = 1.\n",
    "\n",
    "#var1 & var2 are string data type\n",
    "#var3 is list data type\n",
    "#var4 is float data type\n",
    "\n",
    "print(type(var1))\n",
    "print(type(var2))\n",
    "print(type(var3))\n",
    "print(type(var4))"
   ]
  },
  {
   "cell_type": "markdown",
   "id": "edaae014-1a0e-4e36-9a1f-c25ca63bc4c5",
   "metadata": {},
   "source": [
    "Q3. Explain the use of the following operators using an example:\n",
    "(i) /\n",
    "(ii) %\n",
    "(iii) //\n",
    "(iv) **"
   ]
  },
  {
   "cell_type": "code",
   "execution_count": 13,
   "id": "0b027803-6cc1-454b-ab7c-d933a1372da0",
   "metadata": {},
   "outputs": [
    {
     "name": "stdout",
     "output_type": "stream",
     "text": [
      "2.5\n",
      "2\n",
      "2\n",
      "10000\n"
     ]
    }
   ],
   "source": [
    "a = 10\n",
    "b = 4\n",
    "\n",
    "# / is used for division\n",
    "print(a/b)\n",
    "\n",
    "# % is used to find the remainder, also called modulus operator\n",
    "print(a%b)\n",
    "\n",
    "# // is used to find the floor value, basically integer value of the quotient ignoring decimal values\n",
    "print(a//b)\n",
    "\n",
    "# ** is used as a power function, a**b is a raised to the power b\n",
    "print(a**b)"
   ]
  },
  {
   "cell_type": "markdown",
   "id": "89b0e325-aac5-42a8-a207-d10f1fa8dd7d",
   "metadata": {},
   "source": [
    "Q4. Create a list of length 10 of your choice containing multiple types of data. Using for loop print the\n",
    "element and its data type."
   ]
  },
  {
   "cell_type": "code",
   "execution_count": 20,
   "id": "1488c79f-c254-4e86-878f-2bca4d7efc39",
   "metadata": {},
   "outputs": [
    {
     "name": "stdout",
     "output_type": "stream",
     "text": [
      "7 <class 'int'>\n",
      "69.69 <class 'float'>\n",
      "8.28 <class 'float'>\n",
      "Siddartha <class 'str'>\n",
      "['a', 'b'] <class 'list'>\n",
      "Python <class 'str'>\n",
      "Naruto <class 'str'>\n",
      "-10 <class 'int'>\n",
      "15 <class 'int'>\n",
      "2023 <class 'int'>\n"
     ]
    }
   ],
   "source": [
    "l = [7, 69.69, 8.28, 'Siddartha', ['a','b'], 'Python', 'Naruto', -10, 15, 2023]\n",
    "\n",
    "for i in l :\n",
    "    s = type(i)\n",
    "    print(i,s)"
   ]
  },
  {
   "cell_type": "markdown",
   "id": "b6c43e21-4eb9-4c70-ad37-92d62094cc76",
   "metadata": {},
   "source": [
    "Q5. Using a while loop, verify if the number A is purely divisible by number B and if so then how many\n",
    "times it can be divisible."
   ]
  },
  {
   "cell_type": "code",
   "execution_count": 26,
   "id": "835dae0c-33f0-42bc-9331-3285ffe8cd44",
   "metadata": {},
   "outputs": [
    {
     "name": "stdin",
     "output_type": "stream",
     "text": [
      "Enter A 16\n",
      "Enter B 4\n"
     ]
    },
    {
     "name": "stdout",
     "output_type": "stream",
     "text": [
      "A is divisible by B 2 times\n"
     ]
    }
   ],
   "source": [
    "a = int(input('Enter A'))\n",
    "b = int(input('Enter B'))\n",
    "\n",
    "count = 0 \n",
    "\n",
    "while a>=b : \n",
    "    if a%b == 0 :\n",
    "        count += 1\n",
    "    else :\n",
    "        print('A is not purely divisible by B')\n",
    "    a = a/b\n",
    "print('A is divisible by B' , count , 'times')    \n"
   ]
  },
  {
   "cell_type": "markdown",
   "id": "47007dbe-3855-4655-9b7a-05aa486ae193",
   "metadata": {},
   "source": [
    "Q6. Create a list containing 25 int type data. Using for loop and if-else condition print if the element is\n",
    "divisible by 3 or not."
   ]
  },
  {
   "cell_type": "code",
   "execution_count": 29,
   "id": "9aea2735-048c-4e1a-949e-b34268027f7d",
   "metadata": {},
   "outputs": [
    {
     "name": "stdout",
     "output_type": "stream",
     "text": [
      "0 is divisible by 3\n",
      "1 is not divisible by 3\n",
      "2 is not divisible by 3\n",
      "3 is divisible by 3\n",
      "4 is not divisible by 3\n",
      "5 is not divisible by 3\n",
      "6 is divisible by 3\n",
      "7 is not divisible by 3\n",
      "8 is not divisible by 3\n",
      "9 is divisible by 3\n",
      "10 is not divisible by 3\n",
      "11 is not divisible by 3\n",
      "12 is divisible by 3\n",
      "13 is not divisible by 3\n",
      "14 is not divisible by 3\n",
      "15 is divisible by 3\n",
      "16 is not divisible by 3\n",
      "17 is not divisible by 3\n",
      "18 is divisible by 3\n",
      "19 is not divisible by 3\n",
      "20 is not divisible by 3\n",
      "21 is divisible by 3\n",
      "22 is not divisible by 3\n",
      "23 is not divisible by 3\n",
      "24 is divisible by 3\n"
     ]
    }
   ],
   "source": [
    "l = list(range(25))\n",
    "\n",
    "for i in l:\n",
    "    if i%3 == 0 :\n",
    "        print(i,'is divisible by 3')\n",
    "    else :\n",
    "        print(i, 'is not divisible by 3')"
   ]
  },
  {
   "cell_type": "markdown",
   "id": "d908a805-5011-42bd-ab1f-1d38788b570a",
   "metadata": {},
   "source": [
    "Q7. What do you understand about mutable and immutable data types? Give examples for both showing\n",
    "this property."
   ]
  },
  {
   "cell_type": "code",
   "execution_count": 32,
   "id": "a8c8a038-0312-4e1b-8b29-551d236a01a9",
   "metadata": {},
   "outputs": [
    {
     "ename": "TypeError",
     "evalue": "'str' object does not support item assignment",
     "output_type": "error",
     "traceback": [
      "\u001b[0;31m---------------------------------------------------------------------------\u001b[0m",
      "\u001b[0;31mTypeError\u001b[0m                                 Traceback (most recent call last)",
      "Cell \u001b[0;32mIn[32], line 12\u001b[0m\n\u001b[1;32m      9\u001b[0m \u001b[38;5;66;03m# Above operation won't throw an error, Mutable data type\u001b[39;00m\n\u001b[1;32m     11\u001b[0m s \u001b[38;5;241m=\u001b[39m \u001b[38;5;124m'\u001b[39m\u001b[38;5;124mSiddaxtha\u001b[39m\u001b[38;5;124m'\u001b[39m\n\u001b[0;32m---> 12\u001b[0m \u001b[43ms\u001b[49m\u001b[43m[\u001b[49m\u001b[38;5;241;43m5\u001b[39;49m\u001b[43m]\u001b[49m \u001b[38;5;241m=\u001b[39m \u001b[38;5;124m'\u001b[39m\u001b[38;5;124mr\u001b[39m\u001b[38;5;124m'\u001b[39m\n\u001b[1;32m     14\u001b[0m \u001b[38;5;66;03m# The one above will throw an error, Immutable data type\u001b[39;00m\n",
      "\u001b[0;31mTypeError\u001b[0m: 'str' object does not support item assignment"
     ]
    }
   ],
   "source": [
    "# Mutable data types are those in which any value in the data type can be accessed and changed accordingly. List data type for example\n",
    "# Immutable data types are those in which any value can be accessed but not be changed. String data type for example\n",
    "\n",
    "# variables containing mutable data types can change their original form whereas immutable data types cannot change their original form.\n",
    "\n",
    "l = [1,2,3,4,5,6,'Thala',8,9]\n",
    "l[6] = 7\n",
    "\n",
    "# Above operation won't throw an error, Mutable data type\n",
    "\n",
    "s = 'Siddaxtha'\n",
    "s[5] = 'r'\n",
    "\n",
    "# The one above will throw an error, Immutable data type"
   ]
  },
  {
   "cell_type": "code",
   "execution_count": null,
   "id": "9ab3c127-a919-45f8-b553-d7b29a89f4b5",
   "metadata": {},
   "outputs": [],
   "source": []
  }
 ],
 "metadata": {
  "kernelspec": {
   "display_name": "Python 3 (ipykernel)",
   "language": "python",
   "name": "python3"
  },
  "language_info": {
   "codemirror_mode": {
    "name": "ipython",
    "version": 3
   },
   "file_extension": ".py",
   "mimetype": "text/x-python",
   "name": "python",
   "nbconvert_exporter": "python",
   "pygments_lexer": "ipython3",
   "version": "3.10.8"
  }
 },
 "nbformat": 4,
 "nbformat_minor": 5
}
